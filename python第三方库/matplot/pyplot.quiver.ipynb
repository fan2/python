{
 "cells": [
  {
   "cell_type": "code",
   "execution_count": 1,
   "metadata": {},
   "outputs": [],
   "source": [
    "# import cell\n",
    "\n",
    "import numpy as np\n",
    "from matplotlib import pyplot as plt"
   ]
  },
  {
   "attachments": {},
   "cell_type": "markdown",
   "metadata": {},
   "source": [
    "## quiver\n",
    "\n",
    "[Plotting Vector Fields in Python](https://krajit.github.io/sympy/vectorFields/vectorFields.html)\n",
    "\n",
    "```Shell\n",
    "quiver(*args, data=None, **kwargs)\n",
    "    Plot a 2D field of arrows.\n",
    "\n",
    "    Call signature::\n",
    "\n",
    "      quiver([X, Y], U, V, [C], **kw)\n",
    "\n",
    "    *X*, *Y* define the arrow locations, *U*, *V* define the arrow directions, and\n",
    "    *C* optionally sets the color.\n",
    "```\n",
    "\n",
    "Each arrow is internally represented by a filled polygon with a default edge linewidth of 0.  \n",
    "As a result, an arrow is rather a filled area, not a line with a head,  \n",
    "and `.PolyCollection` properties like *linewidth*, *linestyle*, *facecolor*, etc. act accordingly.\n",
    "\n",
    "**Arrow size**\n",
    "\n",
    "    The default settings auto-scales the length of the arrows to a reasonable size.\n",
    "    To change this behavior see the *scale* and *scale_units* parameters.\n",
    "\n",
    "**Arrow shape**\n",
    "\n",
    "    The defaults give a slightly swept-back arrow; to make the head a\n",
    "    triangle, make *headaxislength* the same as *headlength*. To make the\n",
    "    arrow more pointed, reduce *headwidth* or increase *headlength* and\n",
    "    *headaxislength*. To make the head smaller relative to the shaft,\n",
    "    scale down all the head parameters. You will probably do best to leave\n",
    "    minshaft alone.\n",
    "\n",
    "**Arrow outline**\n",
    "\n",
    "    *linewidths* and *edgecolors* can be used to customize the arrow\n",
    "    outlines."
   ]
  },
  {
   "attachments": {},
   "cell_type": "markdown",
   "metadata": {},
   "source": [
    "### stackoverflow\n",
    "\n",
    "[How to plot vectors in python using matplotlib](https://stackoverflow.com/questions/42281966/how-to-plot-vectors-in-python-using-matplotlib)\n"
   ]
  },
  {
   "cell_type": "code",
   "execution_count": null,
   "metadata": {},
   "outputs": [],
   "source": [
    "origin = np.array([[0, 0, 0],[0, 0, 0]]) # origin point\n",
    "V = np.array([[1,1], [-2,2], [4,-7]]) # 2D 3x2 matrix\n",
    "\n",
    "plt.quiver(*origin, V[:,0], V[:,1], color=['r','b','g'], scale=21)\n",
    "plt.show()"
   ]
  },
  {
   "cell_type": "code",
   "execution_count": null,
   "metadata": {},
   "outputs": [],
   "source": [
    "plt.quiver([0, 0, 0], [0, 0, 0], [1, -2, 4], [1, 2, -7], angles='xy', scale_units='xy', scale=1)\n",
    "plt.xlim(-10, 10)\n",
    "plt.ylim(-10, 10)\n",
    "plt.show()"
   ]
  },
  {
   "attachments": {},
   "cell_type": "markdown",
   "metadata": {},
   "source": [
    "### tutorialspoint\n",
    "\n",
    "[How to plot vectors in Python using Matplotlib?](https://www.tutorialspoint.com/how-to-plot-vectors-in-python-using-matplotlib)\n",
    "\n",
    "To plot vectors in Python using matplotlib, we can take the following steps −\n",
    "\n",
    "1. Create a matrix of 2×3 dimension.\n",
    "2. Create an origin point, from where vecors could be originated.\n",
    "3. Plot a 3D fields of arrows using quiver() method with origin, data, colors and scale=15."
   ]
  },
  {
   "cell_type": "code",
   "execution_count": null,
   "metadata": {},
   "outputs": [],
   "source": [
    "\n",
    "plt.rcParams[\"figure.figsize\"] = [7.00, 3.50]\n",
    "plt.rcParams[\"figure.autolayout\"] = True\n",
    "origin = np.array([[0, 0, 0], [0, 0, 0]])\n",
    "data = np.array([[2, 1], [-1, 2], [4, -1]])\n",
    "plt.quiver(*origin, data[:, 0], data[:, 1], color=['black', 'red', 'green'], scale=15)\n",
    "plt.show()"
   ]
  }
 ],
 "metadata": {
  "kernelspec": {
   "display_name": "base",
   "language": "python",
   "name": "python3"
  },
  "language_info": {
   "codemirror_mode": {
    "name": "ipython",
    "version": 3
   },
   "file_extension": ".py",
   "mimetype": "text/x-python",
   "name": "python",
   "nbconvert_exporter": "python",
   "pygments_lexer": "ipython3",
   "version": "3.9.16"
  },
  "orig_nbformat": 4,
  "vscode": {
   "interpreter": {
    "hash": "3067ead486e059ec00ffe7555bdb889e6e264a24dc711bf108106cc7baee8d5d"
   }
  }
 },
 "nbformat": 4,
 "nbformat_minor": 2
}
