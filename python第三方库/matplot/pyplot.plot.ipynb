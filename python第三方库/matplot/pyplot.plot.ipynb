{
 "cells": [
  {
   "cell_type": "code",
   "execution_count": null,
   "metadata": {},
   "outputs": [],
   "source": [
    "# import cell\n",
    "\n",
    "import numpy as np\n",
    "from matplotlib import pyplot as plt\n",
    "\n",
    "fig, ax = plt.subplots()\n",
    "ax.plot([1, 2, 3, 4], [1, 4, 2, 3]);"
   ]
  },
  {
   "attachments": {},
   "cell_type": "markdown",
   "metadata": {},
   "source": [
    "## python绘图基础\n",
    "\n",
    "[python绘图基础](https://blog.csdn.net/xiaobaicai4552/article/details/79060995)  \n"
   ]
  },
  {
   "cell_type": "code",
   "execution_count": null,
   "metadata": {},
   "outputs": [],
   "source": [
    "# 简单绘图\n",
    "\n",
    "x = [5,6,7,8]\n",
    "y = [7,8,5,6]\n",
    "plt.plot(x,y)                  #也可以直接plt.plot([5,6,7,8],[7,8,5,6])\n",
    "plt.title('First Chart')       #中文会乱码\n",
    "plt.xlabel('x axis')\n",
    "plt.ylabel('y axis')\n",
    "\n",
    "plt.show()                     #显示"
   ]
  },
  {
   "cell_type": "code",
   "execution_count": null,
   "metadata": {},
   "outputs": [],
   "source": [
    "# 添加元素\n",
    "\n",
    "x = [5,6,7,8]\n",
    "y = [7,8,5,6]\n",
    "\n",
    "x1 = [1,2,3,4]\n",
    "y1 = [3,4,1,2]\n",
    "\n",
    "plt.plot(x,y,'b',linewidth = 2, label = 'Line1') #颜色有g r y b k(黑)  linewidth设置线条粗细，color='b'可简写‘b’\n",
    "plt.plot(x1,y1,'r',linewidth = 3, label = 'Line2') #要添加图列必须给绘制的这条线命名，否则无法添加图例\n",
    "\n",
    "plt.title('First Chart')\n",
    "plt.xlabel('x axis')\n",
    "plt.ylabel('y axis')\n",
    "\n",
    "plt.legend()    #添加图例\n",
    "\n",
    "plt.grid()      #添加网格，加颜色写成plt.grid(color='k'),color=不可省略，什么都不写默认灰色，grid()等于grid(True),去除网格grid(False)\n",
    "plt.show()"
   ]
  },
  {
   "attachments": {},
   "cell_type": "markdown",
   "metadata": {},
   "source": [
    "## matplotlib绘图基础\n",
    "\n",
    "[matplotlib绘图基础](https://blog.csdn.net/pipisorry/article/details/37742423)  \n",
    "[Python基础-画图：matplotlib](https://www.cnblogs.com/xianhan/p/9131156.html)  "
   ]
  },
  {
   "cell_type": "code",
   "execution_count": null,
   "metadata": {},
   "outputs": [],
   "source": [
    "x = np.arange(-5, 5, 1) #從-5到5，間隔是1，不含結束點5，且間隔可以實數\n",
    "print(x)\n",
    "y = 2*x+1\n",
    "print(y)\n",
    "plt.plot(x,y)\n",
    "plt.axhline(y=0) #x軸\n",
    "plt.axvline(x=0) #y軸\n",
    "plt.show()"
   ]
  },
  {
   "attachments": {},
   "cell_type": "markdown",
   "metadata": {},
   "source": [
    "## matplotlib绘制向量\n",
    "\n",
    "[Python:线性代数-矩阵-绘制向量 (五十)](https://digtime.cn/articles/90/python-xian-xing-dai-shu-ju-zhen-hui-zhi-xiang-liang-wu-shi)\n",
    "\n",
    "1. 绘制二维向量\n",
    "2. 标量伸缩向量\n",
    "3. 将两个向量相加\n"
   ]
  }
 ],
 "metadata": {
  "kernelspec": {
   "display_name": "base",
   "language": "python",
   "name": "python3"
  },
  "language_info": {
   "codemirror_mode": {
    "name": "ipython",
    "version": 3
   },
   "file_extension": ".py",
   "mimetype": "text/x-python",
   "name": "python",
   "nbconvert_exporter": "python",
   "pygments_lexer": "ipython3",
   "version": "3.9.16"
  },
  "orig_nbformat": 4,
  "vscode": {
   "interpreter": {
    "hash": "3067ead486e059ec00ffe7555bdb889e6e264a24dc711bf108106cc7baee8d5d"
   }
  }
 },
 "nbformat": 4,
 "nbformat_minor": 2
}
