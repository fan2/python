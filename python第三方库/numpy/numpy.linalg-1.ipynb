{
 "cells": [
  {
   "attachments": {},
   "cell_type": "markdown",
   "metadata": {},
   "source": [
    "\n",
    "NumPy 提供了线性代数函数库 [linalg](https://numpy.org/doc/stable/reference/routines.linalg.html)，该库包含了线性代数所需的所有功能。\n",
    "\n",
    "- [Linear algebra on n-dimensional arrays](https://numpy.org/numpy-tutorials/content/tutorial-svd.html)\n",
    "- [NumPy for MATLAB users](https://numpy.org/doc/stable/user/numpy-for-matlab-users.html)\n",
    "- [NumPy 线性代数](https://www.runoob.com/numpy/numpy-linear-algebra.html)"
   ]
  },
  {
   "cell_type": "code",
   "execution_count": null,
   "metadata": {},
   "outputs": [],
   "source": [
    "# import cell\n",
    "\n",
    "import numpy as np\n",
    "from numpy import linalg as LA"
   ]
  },
  {
   "attachments": {},
   "cell_type": "markdown",
   "metadata": {},
   "source": [
    "## 向量组合\n",
    "\n",
    "$ 3v+5w $ is a typical linear combination $ cv+dw $ of the vectors $v$ and $w$.\n",
    "\n",
    "For v = $ \\begin{bmatrix} 1 \\\\ 1 \\\\ \\end{bmatrix} $ and w = $ \\begin{bmatrix} 2 \\\\ 3 \\\\ \\end{bmatrix} $ that combinations is 3 $ \\begin{bmatrix} 1 \\\\ 1 \\\\ \\end{bmatrix} $ + 5 $ \\begin{bmatrix} 2 \\\\ 3 \\\\ \\end{bmatrix} $ = $ \\begin{bmatrix} 3+10 \\\\ 3+15 \\\\ \\end{bmatrix} $ = $ \\begin{bmatrix} 13 \\\\ 18 \\\\ \\end{bmatrix} $\n",
    "\n",
    "The combinations $ c \\begin{bmatrix} 1 \\\\ 1 \\\\ 1 \\\\ \\end{bmatrix} $ + $ d \\begin{bmatrix} 2 \\\\ 3 \\\\ 4 \\\\ \\end{bmatrix} $ fill a plane in $xyz$ space. Same plane for $ \\begin{bmatrix} 1 \\\\ 1 \\\\ 1 \\\\ \\end{bmatrix} $, $ \\begin{bmatrix} 3 \\\\ 4 \\\\ 5 \\\\ \\end{bmatrix} $."
   ]
  },
  {
   "cell_type": "code",
   "execution_count": null,
   "metadata": {},
   "outputs": [],
   "source": [
    "# v=np.array([[1], [1]])\n",
    "v=np.array([[1, 1]]).T\n",
    "# w=np.array([[2], [3]])\n",
    "w=np.array([[2, 3]]).T\n",
    "comb = v*3+w*5\n",
    "print('v*3+w*5:\\n', comb)"
   ]
  },
  {
   "attachments": {},
   "cell_type": "markdown",
   "metadata": {},
   "source": [
    "## 向量点积\n",
    "\n",
    "[numpy.dot](https://numpy.org/doc/stable/reference/generated/numpy.dot.html#numpy.dot), [numpy.inner](https://numpy.org/doc/stable/reference/generated/numpy.inner.html)\n",
    "\n",
    "The dot product or inner product of $v=(v_1, v_2)$ and $w=(w_1, w_2)$ is the number $v{\\cdot}w$ :\n",
    "\n",
    "$ v = \\begin{bmatrix} v_1 \\\\ v_2 \\\\ \\end{bmatrix} $ and $ w = \\begin{bmatrix} w_1 \\\\ w_2 \\\\ \\end{bmatrix} $ then $v{\\cdot}w$ = $v_1w_1 + v_2w_2$ = $ \\sum_{i=1}^n v_iw_i $\n",
    "\n",
    "The dot product $v{\\cdot}w$ is a row vector times a column vector.\n",
    "\n",
    "对于1D数组，dot点积相当于inner内积（$^T$ is inside）：\n",
    "\n",
    "$v{\\cdot}w = v^Tw = \\begin{bmatrix} v_1 & v_2 \\\\ \\end{bmatrix} \\begin{bmatrix} w_1 \\\\ w_2 \\\\ \\end{bmatrix} = v_1w_1 + v_2w_2 $\n",
    "\n",
    "The “dot product” of v = $ \\begin{bmatrix} 1 \\\\ 2 \\\\ \\end{bmatrix} $ and w = $ \\begin{bmatrix} 4 \\\\ 5 \\\\ \\end{bmatrix} $ is $v{\\cdot}w$ = `1*4+2*5`=14.\n",
    "\n",
    "v = $ \\begin{bmatrix} 1 \\\\ 3 \\\\ 2 \\\\ \\end{bmatrix} $ and w = $ \\begin{bmatrix} 4 \\\\ -4 \\\\ 4 \\\\ \\end{bmatrix} $ are perpendicular because v·w = `1*4+3*(-4)+2*4`=0."
   ]
  },
  {
   "cell_type": "code",
   "execution_count": null,
   "metadata": {},
   "outputs": [],
   "source": [
    "# 1-D array dot product\n",
    "\n",
    "l1 = [1,2]\n",
    "l2 = [4,5]\n",
    "dot1 = np.dot(l1,l2)\n",
    "print('dot1 =', dot1)\n",
    "\n",
    "a1=np.array([1,2])\n",
    "a2=np.array([4,5])\n",
    "dot2 = a1.dot(a2)\n",
    "print('dot2 =', dot2)\n",
    "\n",
    "dot3 = np.matmul(a1, a2)\n",
    "print('dot3 =', dot3)\n",
    "dot4 = a1 @ a2 # 推荐\n",
    "print('dot4 =', dot4)\n",
    "\n",
    "# perpendicular: a3 @ a4 = 0\n",
    "a3 = np.array([1,3,2])\n",
    "a4 = np.array([4,-4,4])\n",
    "print('a3 @ a4 =', a3 @ a4)\n"
   ]
  },
  {
   "attachments": {},
   "cell_type": "markdown",
   "metadata": {},
   "source": [
    "## 向量的模\n",
    "\n",
    "[NumPy Norm of Vector](https://sparkbyexamples.com/numpy/numpy-norm-of-vector/)\n",
    "\n",
    "```Shell\n",
    "norm(x, ord=None, axis=None, keepdims=False)\n",
    "    Matrix or vector norm.\n",
    "\n",
    "    This function is able to return one of eight different matrix norms,\n",
    "    or one of an infinite number of vector norms (described below), depending\n",
    "    on the value of the ``ord`` parameter.\n",
    "```\n",
    "\n",
    "The length squared of v = $ \\begin{bmatrix} 1 \\\\ 3 \\\\ 2 \\\\ \\end{bmatrix} $ is $ v·v=1+9+4=14 $.\n",
    "The length is \n",
    "${\\lVert}v{\\rVert}$=$\\sqrt{14}$\n"
   ]
  },
  {
   "cell_type": "code",
   "execution_count": null,
   "metadata": {},
   "outputs": [],
   "source": [
    "# norm of vectors\n",
    "\n",
    "a1=np.array([1,3,2])\n",
    "dot_a1 = a1 @ a1\n",
    "print('dot_a1 =', dot_a1)\n",
    "print('a1.norm =', LA.norm(a1)) # math.sqrt(14)\n",
    "\n",
    "a2=np.array([[1,2], [4,5]])\n",
    "print('a2.norm =', LA.norm(a2))"
   ]
  },
  {
   "attachments": {},
   "cell_type": "markdown",
   "metadata": {},
   "source": [
    "## 向量夹角\n",
    "\n",
    "The angle *θ* between v and w has $\\cosθ$ = $\\frac{v \\cdot w}{{\\lVert}v{\\rVert}{\\lVert}w{\\rVert}} \\quad$\n",
    "\n",
    "对于二维向量，设 v 与 x 轴的夹角为 β，w 与 x 轴的夹角为 α。  \n",
    "单位向量 uv = $\\frac{v}{{\\lVert}v{\\rVert}}\\quad$ = (cosβ, sinβ), uw= $\\frac{w}{{\\lVert}w{\\rVert}}\\quad$ =(cosα, sinα)  \n",
    "由余弦差角公式：$cosθ = cos(β-α)=cosβcosα+sinβsinα = uv \\cdot uw $\n",
    "\n",
    "Example 5: Find cosθ for v = $ \\begin{bmatrix} 2 \\\\ 1 \\\\ \\end{bmatrix} $ and w = $ \\begin{bmatrix} 1 \\\\ 2 \\\\ \\end{bmatrix} $\n",
    "\n",
    "[Angles between two n-dimensional vectors in Python](https://stackoverflow.com/questions/2827393/angles-between-two-n-dimensional-vectors-in-python)"
   ]
  },
  {
   "cell_type": "code",
   "execution_count": null,
   "metadata": {},
   "outputs": [],
   "source": [
    "v=np.array([2,1])\n",
    "w=np.array([1,2])\n",
    "cos_theta = v.dot(w)/(LA.norm(v) * LA.norm(w))\n",
    "print('cos_theta =', cos_theta)\n",
    "angle = np.arccos(cos_theta) # math.acos\n",
    "print('angle =', angle)\n",
    "print('degree =', np.degrees(angle))"
   ]
  },
  {
   "attachments": {},
   "cell_type": "markdown",
   "metadata": {},
   "source": [
    "## 线性方程组\n",
    "\n",
    "线性方程组对应的矩阵表达式（Matrix equation）： $ Ax = b $\n",
    "\n",
    "### 二元一次方程组\n",
    "\n",
    "$$\n",
    "\\left\\{ \n",
    "\\begin{array}{c}\n",
    "x - 2y = 1 \\\\\n",
    "3x + 2y = 11\n",
    "\\end{array}\n",
    "\\right.\n",
    "$$\n",
    "\n",
    "向量线性组合的形式如下：\n",
    "\n",
    "$ x \\begin{bmatrix} 1 \\\\ 3 \\\\ \\end{bmatrix} $ + $ y \\begin{bmatrix} -2 \\\\ 2 \\\\ \\end{bmatrix} $ = $ \\begin{bmatrix} 1 \\\\ 11 \\\\ \\end{bmatrix} $\n",
    "\n",
    "矩阵乘向量的形式如下（Matrix times Vector）：\n",
    "\n",
    "$ \\begin{bmatrix} 1 & -2 \\\\ 3 & 2 \\\\ \\end{bmatrix} $ $ \\begin{bmatrix} x \\\\ y \\\\ \\end{bmatrix} $ = $ \\begin{bmatrix} 1 \\\\ 11 \\\\ \\end{bmatrix} $\n",
    "\n",
    "系数矩阵（Coefficient matrix） $ A = \\begin{bmatrix} 1 & -2 \\\\ 3 & 2 \\\\ \\end{bmatrix} $，结果矩阵 $ b = \\begin{bmatrix} 1 \\\\ 11 \\\\ \\end{bmatrix} $。\n",
    "\n",
    "- **注意**：这里的 `b` 需要表示成标准的2D column vector。\n",
    "\n",
    "使用 numpy.linalg 包的 solve 函数 `x = np.linalg.solve(A,b)` 即可求解出 $ x = \\begin{bmatrix} 3 \\\\ 1 \\\\ \\end{bmatrix} $  \n",
    "\n",
    "Linear combination: $ 3 \\begin{bmatrix} 1 \\\\ 3 \\\\ \\end{bmatrix} $ + $ 1 \\begin{bmatrix} -2 \\\\ 2 \\\\ \\end{bmatrix} $ = $ \\begin{bmatrix} 1 \\\\ 11 \\\\ \\end{bmatrix} $ => 3(column 1) + 1(column 2) = b"
   ]
  },
  {
   "cell_type": "code",
   "execution_count": null,
   "metadata": {},
   "outputs": [],
   "source": [
    "A = np.array([[1,-2],[3,2]])\n",
    "b = np.transpose(np.array([[1,11]]))\n",
    "x = np.linalg.solve(A,b)\n",
    "print('solution x:\\n', x)"
   ]
  },
  {
   "attachments": {},
   "cell_type": "markdown",
   "metadata": {},
   "source": [
    "### 三元一次方程组\n",
    "\n",
    "$$\\begin{cases}\n",
    "2x+1y+(-2)z=-3\\\\\n",
    "3x+0y+1z=5\\\\\n",
    "1x+1y+(-1)z=-2\\\\\n",
    "\\end{cases}\n",
    "$$\n",
    "\n",
    "$ Ax = b $ 对应的系数矩阵如下：\n",
    "\n",
    "A = $ \\begin{bmatrix} 2 & 1 & -2 \\\\ 3 & 0 & 1 \\\\ 1 & 1 & -1 \\\\ \\end{bmatrix} $，\n",
    "b = $ \\begin{bmatrix} -3 \\\\ 5 \\\\ -2 \\\\ \\end{bmatrix} $，"
   ]
  },
  {
   "cell_type": "code",
   "execution_count": null,
   "metadata": {},
   "outputs": [],
   "source": [
    "A = np.array([[2,1,-2],[3,0,1],[1,1,-1]])\n",
    "b = np.transpose(np.array([[-3,5,-2]]))\n",
    "x = np.linalg.solve(A,b)\n",
    "print('solution x:\\n', x)"
   ]
  }
 ],
 "metadata": {
  "kernelspec": {
   "display_name": "base",
   "language": "python",
   "name": "python3"
  },
  "language_info": {
   "codemirror_mode": {
    "name": "ipython",
    "version": 3
   },
   "file_extension": ".py",
   "mimetype": "text/x-python",
   "name": "python",
   "nbconvert_exporter": "python",
   "pygments_lexer": "ipython3",
   "version": "3.9.13"
  },
  "orig_nbformat": 4,
  "vscode": {
   "interpreter": {
    "hash": "3067ead486e059ec00ffe7555bdb889e6e264a24dc711bf108106cc7baee8d5d"
   }
  }
 },
 "nbformat": 4,
 "nbformat_minor": 2
}
