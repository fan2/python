{
 "cells": [
  {
   "cell_type": "code",
   "execution_count": null,
   "metadata": {},
   "outputs": [],
   "source": [
    "# import cell\n",
    "\n",
    "import numpy as np\n",
    "from numpy import linalg as LA"
   ]
  },
  {
   "attachments": {},
   "cell_type": "markdown",
   "metadata": {},
   "source": [
    "## 算子\n",
    "\n",
    "- `matmul` : Matrix product of two arrays. '@' operator as method with out parameter.\n",
    "- `dot` : Dot product of two arrays. Dot multiplication with two arguments.\n",
    "- `vdot` : Return the dot product of two vectors. Complex-conjugating dot product.\n",
    "- `linalg.multi_dot` : Chained dot product. Compute the dot product of two or more arrays in a single function call.\n",
    "- `tensordot` : Compute tensor dot product along specified axes. Sum products over arbitrary axes.\n",
    "- \n",
    "- `inner` : Inner product of two arrays.\n",
    "- `outer` : Compute the outer product of two vectors.\n",
    "- `einsum` : Einstein summation convention. Evaluates the Einstein summation convention on the operands.\n",
    "\n",
    "[内积、点积、数量积有何区别？](https://www.zhihu.com/question/296585022)  \n",
    "[difference between dot product and inner product](https://www.zhihu.com/question/296585022)  \n",
    "[20+ examples for NumPy matrix multiplication](https://likegeeks.com/numpy-matrix-multiplication/)  "
   ]
  },
  {
   "attachments": {},
   "cell_type": "markdown",
   "metadata": {},
   "source": [
    "## matmul\n",
    "\n",
    "The behavior depends on the arguments in the following way.\n",
    "\n",
    "1. If the first argument is 1-D, it is promoted to a matrix by prepending a 1 to its dimensions. After matrix multiplication the prepended 1 is removed.\n",
    "    - a[np.newaxis, :] 提升为2-D数组（行）。\n",
    "2. If the second argument is 1-D, it is promoted to a matrix by appending a 1 to its dimensions. After matrix multiplication the appended 1 is removed.\n",
    "    - b[:, np.newaxis] 提升为2-D数组（列）。\n",
    "3. If both arguments are 2-D they are multiplied like conventional matrices.\n",
    "    - 通常意义上的矩阵乘法。\n",
    "4. If either argument is N-D, N > 2, it is treated as a stack of matrices residing in the last two indexes and broadcast accordingly.\n",
    "    - 把最后两维作为矩阵对待。\n",
    "\n",
    "The `numpy.matmul` function implements the `@` operator.\n",
    "\n",
    "- The matmul function implements the semantics of the `@` operator introduced in Python 3.5 following [PEP 465](https://peps.python.org/pep-0465/).\n",
    "- Introduced in NumPy 1.10.0, the `@` operator is *preferable* to other methods when computing the matrix product between 2d arrays."
   ]
  },
  {
   "cell_type": "code",
   "execution_count": null,
   "metadata": {},
   "outputs": [],
   "source": [
    "# matmul samples\n",
    "\n",
    "a=np.arange(1,3)\n",
    "b=np.arange(1,5).reshape(2,2)\n",
    "c1 = a @ b # 等效于 a[np.newaxis, :] @ b\n",
    "\n",
    "a=np.arange(1,5).reshape(2,2)\n",
    "b=np.arange(1,3)\n",
    "c2 = a @ b # 等效于 a @ b[:, np.newaxis]\n",
    "\n",
    "# 2D @ 2D\n",
    "a=np.arange(1,5).reshape(2,2)\n",
    "b=np.arange(5,9).reshape(2,2)\n",
    "c3 = a @ b # 矩阵乘法"
   ]
  },
  {
   "attachments": {},
   "cell_type": "markdown",
   "metadata": {},
   "source": [
    "### 3D @ 3D\n",
    "\n",
    "[Numpy-3d Matrix Multiplication](https://www.javatpoint.com/numpy-3d-matrix-multiplication)\n",
    "\n",
    "- [3d Matrix multiplication in numpy](https://stackoverflow.com/questions/65583672/3d-matrix-multiplication-in-numpy)\n",
    "- [Matrix multiplication of inner dimensions of 3D tensors?](https://stackoverflow.com/questions/42935288/matrix-multiplication-of-inner-dimensions-of-3d-tensors)\n",
    "\n",
    "If either argument is N-D, N > 2, it is treated as a **stack** of matrices residing in the *last two* indexes and broadcast accordingly.\n",
    "\n",
    "对于 3D @ 3D，把最后两维作为stack矩阵对待。\n",
    "\n",
    "$ x(2,2,4) = \\left[ \\begin{array}{cccc|cccc} 0 & 1 & 2 & 3 & 4 & 5 & 6 & 7 \\\\ \\hline 8 & 9 & 10 & 11 & 12 & 13 & 14 & 15 \\\\ \\end{array} \\right] $ = $ \\begin{bmatrix} x_{00} & x_{01} \\\\ x_{10} & x_{11} \\\\ \\end{bmatrix} $，每一块 $x_i$ 代表第三维长度为4的向量。\n",
    "\n",
    "$ y(2,4,2) = \\left[ \\begin{array}{cc|cc|cc|cc} 0 & 1 & 2 & 3 & 4 & 5 & 6 & 7 \\\\ \\hline 8 & 9 & 10 & 11 & 12 & 13 & 14 & 15 \\\\ \\end{array} \\right] $ = $ \\begin{bmatrix} y_{00} & y_{01} & y_{02} & y_{03} \\\\ y_{10} & y_{11} & y_{12} & y_{13} \\\\ \\end{bmatrix} $，每一块 $y_i$ 代表第三维长度为2的向量。\n",
    "\n",
    "x @ y：x的后两维(2,4)和y的后两维(4,2)得到(2,2)，故结果shape=(2,2,2)。\n",
    "\n",
    "$ x[0] = \\begin{bmatrix} 0 & 1 & 2 & 3 \\\\ 4 & 5 & 6 & 7 \\\\ \\end{bmatrix} $，\n",
    "$ y[0] = \\begin{bmatrix} 0 & 1 \\\\ 2 & 3 \\\\ 4 & 5 \\\\ 6 & 7 \\\\ \\end{bmatrix} $，$ z[0] = x[0] @ y[0] $\n",
    "\n",
    "\n",
    "$ x[1] = \\begin{bmatrix} 8 & 9 & 10 & 11 \\\\ 12 & 13 & 14 & 15 \\\\ \\end{bmatrix} $，\n",
    "$ y[1] = \\begin{bmatrix} 8 & 9 \\\\ 10 & 11 \\\\ 12 & 13 \\\\ 14 & 15 \\\\ \\end{bmatrix} $，$ z[1] = x[1] @ y[1] $\n",
    "\n",
    "z = x @ y 的等效算法如下：\n",
    "\n",
    "```Python\n",
    "# z[i] 只指定第一维，表示其他两维矩阵\n",
    "for i in range(len(x)):\n",
    "    z[i] = x[i] @ y[i]\n",
    "```"
   ]
  },
  {
   "cell_type": "code",
   "execution_count": null,
   "metadata": {},
   "outputs": [],
   "source": [
    "# 3D @ 3D\n",
    "\n",
    "x = np.arange(2 * 2 * 4).reshape((2, 2, 4))\n",
    "y = np.arange(2 * 2 * 4).reshape((2, 4, 2))\n",
    "z = x @ y\n",
    "print('z:\\n', z)\n",
    "\n",
    "# 等效的其他写法：\n",
    "z = np.einsum('ijk,ikl->ijl', x, y)\n",
    "z = [np.matmul(a, b) for a, b in zip(x, y)]\n",
    "# 列表推导的for循环展开\n",
    "z = np.zeros((2,2,2), dtype=np.int32)\n",
    "for i in range(len(x)): # x.shape[0]\n",
    "    z[i] = x[i] @ y[i]\n"
   ]
  },
  {
   "attachments": {},
   "cell_type": "markdown",
   "metadata": {},
   "source": [
    "## inner\n",
    "\n",
    "`inner(a, b, /)`: Inner product of two arrays.\n",
    "\n",
    "Ordinary inner product of vectors for 1-D arrays (without complex conjugation), in higher dimensions a sum product over the **last** axes.\n",
    "\n",
    "For vectors (1-D arrays) it computes the ordinary inner-product:\n",
    "\n",
    "> 对于1D数组（向量），就是普通的内积。\n",
    "\n",
    "```Python\n",
    "np.inner(a, b) = sum(a[:]*b[:])\n",
    "```\n",
    "\n",
    "More generally, if ndim(a) = r > 0 and ndim(b) = s > 0:\n",
    "\n",
    "> 对于维度大于等于2的数组，axes 取各自最后一维进行 *tensordot。*\n",
    "\n",
    "```Python\n",
    "np.inner(a, b) = np.tensordot(a, b, axes=(-1,-1))\n",
    "```"
   ]
  },
  {
   "cell_type": "code",
   "execution_count": null,
   "metadata": {},
   "outputs": [],
   "source": [
    "# inner\n",
    "\n",
    "a = np.arange(24).reshape((2,3,4))\n",
    "b = np.arange(4)\n",
    "# a的第三维·b的第一维\n",
    "c1 = np.inner(a, b) # 等价于 a @ b\n",
    "\n",
    "a = np.arange(2).reshape((1,1,2))\n",
    "b = np.arange(6).reshape((3,2))\n",
    "# a的第三维·b的第二维\n",
    "c2 = np.inner(a, b) \n",
    "# a @ b 报错 size 3 is different from 2"
   ]
  },
  {
   "attachments": {},
   "cell_type": "markdown",
   "metadata": {},
   "source": [
    "## outer\n",
    "\n",
    "`outer(a, b, out=None)`: Compute the outer product of two vectors.\n",
    "\n",
    "> out[i, j] = a[i] * b[j]\n"
   ]
  },
  {
   "cell_type": "code",
   "execution_count": null,
   "metadata": {},
   "outputs": [],
   "source": [
    "# outer\n",
    "\n",
    "rl = np.outer(np.ones((5,)), np.linspace(-2, 2, 5))\n",
    "im = np.outer(1j*np.linspace(2, -2, 5), np.ones((5,)))\n",
    "x = np.array(['a', 'b', 'c'], dtype=object)\n",
    "np.outer(x, [1, 2, 3])"
   ]
  },
  {
   "attachments": {},
   "cell_type": "markdown",
   "metadata": {},
   "source": [
    "## dot\n",
    "\n",
    "`dot(a, b, out=None)`: Dot product of two arrays.\n",
    "\n",
    "**Parameters**:\n",
    "\n",
    "- a : array_like\n",
    "- b : array_like\n",
    "- out : ndarray, optional\n",
    "\n",
    "**Specifically**:\n",
    "\n",
    "- If both `a` and `b` are 1-D arrays, it is inner product of vectors (without complex conjugation).\n",
    "\n",
    "- If both `a` and `b` are 2-D arrays, it is matrix multiplication, but using :func:`matmul` or ``a @ b`` is preferred.\n",
    "\n",
    "- If either `a` or `b` is 0-D (scalar), it is equivalent to :func:`multiply` and using ``numpy.multiply(a, b)`` or ``a * b`` is preferred.\n",
    "\n",
    "- If `a` is an N-D array and `b` is a 1-D array, it is a <u>sum product</u> over the *last* axis of `a` and `b`.\n",
    "\n",
    "- If `a` is an N-D array and `b` is an M-D array (where ``M>=2``), it is a <u>sum product</u> over the *last* axis of `a` and the *second-to-last* axis of `b`::\n",
    "\n",
    "    dot(a, b)[i,j,k,m] = sum(a[i,j,:] * b[k,:,m])"
   ]
  },
  {
   "attachments": {},
   "cell_type": "markdown",
   "metadata": {},
   "source": [
    "### matrix notation\n",
    "\n",
    "The dot product $x{\\cdot}y$ is a row vector times a column vector.\n",
    "\n",
    "We know the dot product (inner product) of $x$ and $y$. It is the sum of numbers $ x_iy_i $（$ \\sum_{i=1}^n x_iy_i $）  \n",
    "Now we have a better way to write $x{\\cdot}y$, without using that unprofessional dot. Use matrix notation instead:\n",
    "\n",
    "- $^T$ is inside: The dot product or inner product is $x^Ty$ -- (1xn)(nx1)\n",
    "- $^T$ is outside: The rank one product or outer product is $xy^T$ -- (nx1)(1xn)\n",
    "\n",
    "$x^Ty$ is a number, $xy^T$ is a matrix.  \n",
    "Quantum mechanics would write those as $ <x|y> $ (inner) and $ |x><y| $ (outer).  \n",
    "Maybe the universe is governed by linear algebra.\n",
    "\n",
    "对于1D数组，dot点积相当于inner内积：\n",
    "\n",
    "$ x = \\begin{bmatrix} x_1 \\\\ x_2 \\\\ \\end{bmatrix} $ and $ y = \\begin{bmatrix} y_1 \\\\ y_2 \\\\ \\end{bmatrix} $ then $x{\\cdot}y$ = $x_1y_1 + x_2y_2$ = $ \\sum_{i=1}^n x_iy_i $\n",
    "\n",
    "$x{\\cdot}y = x^Ty = \\begin{bmatrix} x_1 & x_2 \\\\ \\end{bmatrix} \\begin{bmatrix} y_1 \\\\ y_2 \\\\ \\end{bmatrix} = x_1y_1 + x_2y_2 $\n",
    "\n",
    "$ xy^T = \\begin{bmatrix} x_1 \\\\ x_2 \\\\ \\end{bmatrix} \\begin{bmatrix} y_1 & y_2 \\\\ \\end{bmatrix} = \\begin{bmatrix} x_1y_1 & x_1y_2 \\\\ x_2y_1 & x_2y_2 \\\\ \\end{bmatrix} $"
   ]
  },
  {
   "attachments": {},
   "cell_type": "markdown",
   "metadata": {},
   "source": [
    "### 1-D vector\n",
    "\n",
    "If both a and b are 1-D arrays, it is `inner` product of vectors (without complex conjugation).\n",
    "\n",
    "一维数组的点积，自动转换成内积，也可采用标准的矩阵乘法算子 `matmul(@)`。\n",
    "\n",
    "> 计算结果为数值标量。"
   ]
  },
  {
   "cell_type": "code",
   "execution_count": null,
   "metadata": {},
   "outputs": [],
   "source": [
    "# 1-D list dot product\n",
    "\n",
    "# 标量建议采用 multiply(*) 算子\n",
    "s1 = np.dot(3, 4)\n",
    "print('s1 =', s1)\n",
    "\n",
    "# np.dot 和 np.matmul 支持传入两个1维列表，内部会自动转换为ndarray。\n",
    "l1 = [1,2]\n",
    "l2 = [4,5]\n",
    "\n",
    "dotl1 = np.dot(l1,l2)\n",
    "print('dotl1 =', dotl1)\n",
    "\n",
    "dotl2 = np.matmul(l1, l2)\n",
    "print('dotl2 =', dotl2)"
   ]
  },
  {
   "cell_type": "code",
   "execution_count": null,
   "metadata": {},
   "outputs": [],
   "source": [
    "# 1-D array dot product\n",
    "\n",
    "a1=np.array([1,2])\n",
    "a2=np.array([4,5])\n",
    "\n",
    "dot1 = np.dot(a1, a2) # or a1.dot(a2)\n",
    "print('dot1 =', dot1)\n",
    "\n",
    "# @ 等效于 np.matmul(a1, a2)\n",
    "dot2 = a1 @ a2\n",
    "print('dot2 =', dot2)\n",
    "\n",
    "# perpendicular: a3 @ a4 = 0\n",
    "a3 = np.array([1,3,2])\n",
    "a4 = np.array([4,-4,4])\n",
    "dot3 = a3 @ a4\n",
    "print('dot3 =', dot3)"
   ]
  },
  {
   "attachments": {},
   "cell_type": "markdown",
   "metadata": {},
   "source": [
    "### 2-D array\n",
    "\n",
    "If both a and b are 2-D arrays, it is matrix multiplication, but using `matmul` or `a @ b` is preferred.\n",
    "\n",
    "二维数组（矩阵）的点积（内积）需要符合矩阵的乘法阶数要求，建议直接采用 `matmul(@)` 算子。\n",
    "\n",
    "> 计算结果为1x1阶矩阵。"
   ]
  },
  {
   "cell_type": "code",
   "execution_count": null,
   "metadata": {},
   "outputs": [],
   "source": [
    "# 2-D array dot product(inner product)\n",
    "\n",
    "# two standard column vector represent by matrix\n",
    "v1=np.array([[1,2]]).T\n",
    "v2=np.array([[4,5]]).T\n",
    "# 需转换成内积形式，以使阶数匹配符合矩阵乘法的要求，否则报错 shapes not aligned。\n",
    "dot1 = np.dot(v1.T, v2) # or v1.T.dot(v2)\n",
    "print('dot1:\\n', dot1)\n",
    "# @ 等效于 np.matmul(v1.T, v2)\n",
    "dot2 = v1.T @ v2 # 推荐\n",
    "print('dot2:\\n', dot2)\n",
    "\n",
    "# np.dot 和 np.matmul 支持传入两个1维列表，内部会自动转换为ndarray。\n",
    "l21 = [[1, 0], [0, 1]]\n",
    "l22 = [[4, 1], [2, 2]]\n",
    "dot3 = np.dot(l21, l22)\n",
    "print('dot3:\\n', dot3)\n",
    "dot4 = np.matmul(l21, l22)\n",
    "print('dot4:\\n', dot4)\n",
    "# 二维列表要转换成2-D ndarray，才支持@运算符。\n",
    "m1 = np.array(l21)\n",
    "m2 = np.array(l22)\n",
    "dot5 = m1 @ m2\n",
    "print('dot5:\\n', dot5)"
   ]
  },
  {
   "attachments": {},
   "cell_type": "markdown",
   "metadata": {},
   "source": [
    "### N-D · 1-D\n",
    "\n",
    "If a is an N-D array and b is a 1-D array, it is a sum product over the last axis of a and b.\n",
    "\n",
    "若 $ a = \\begin{bmatrix} 1 & 2 \\\\ 3 & 4 \\\\ \\end{bmatrix}, b = \\begin{bmatrix} 5 & 6 \\\\ \\end{bmatrix} $ 则 $a{\\cdot}b = ab^T = \\begin{bmatrix} 1 & 2 \\\\ 3 & 4 \\\\ \\end{bmatrix} \\begin{bmatrix} 5 \\\\ 6 \\\\ \\end{bmatrix} $\n",
    "\n",
    "相当于 ((a.row1)·(b.row), (a.row2)·(b.row))。"
   ]
  },
  {
   "cell_type": "code",
   "execution_count": null,
   "metadata": {},
   "outputs": [],
   "source": [
    "# 2-D · 1-D\n",
    "\n",
    "l1 = [[1, 2], [3, 4]]\n",
    "l2 = [5, 6]\n",
    "a=np.array(l1)\n",
    "b=np.array(l2)\n",
    "dot_n1 = np.dot(a, b)\n",
    "print('dot_n1:\\n', dot_n1)\n",
    "\n",
    "# 1-D · 2-D\n",
    "\n",
    "c=np.arange(3)\n",
    "d=np.arange(3*2).reshape(3,2)\n",
    "dot_1n = np.dot(c, d)\n",
    "print('dot_1n:\\n', dot_1n)\n"
   ]
  },
  {
   "attachments": {},
   "cell_type": "markdown",
   "metadata": {},
   "source": [
    "### N-D · M-D\n",
    "\n",
    "If a is an N-D array and b is an M-D array (where M>=2), it is a **sum product** over the *last* axis of a and the *second-to-last* axis of b.\n"
   ]
  },
  {
   "attachments": {},
   "cell_type": "markdown",
   "metadata": {},
   "source": [
    "#### 2D · 3D\n",
    "\n",
    "shape=(2,2) 的2-D数组 n_22 = $ \\begin{bmatrix} 0 & 1 \\\\ 2 & 3 \\\\ \\end{bmatrix} $ = $ \\begin{bmatrix} n_{00} & n_{01} \\\\ n_{10} & n_{11} \\\\ \\end{bmatrix} $  \n",
    "shape=(2,2,3) 的D-D数组 m_223 如下（将其划分为2x2的方块 $m_{00}$,$m_{01}$,$m_{10}$,$m_{11}$）：\n",
    "\n",
    "m_223 = $ \\left[ \\begin{array}{ccc|ccc} 0 & 1 & 2 & 3 & 4 & 5 \\\\ \\hline 6 & 7 & 8 & 9 & 10 & 11 \\end{array} \\right] $ = $ \\begin{bmatrix} m_{00} & m_{01} \\\\ m_{10} & m_{11} \\\\ \\end{bmatrix} $，每一块 $m_i$ 代表第三维长度为3的向量。\n",
    "\n",
    "则 $n{\\cdot}m$ = $ \\begin{bmatrix} n_{00} & n_{01} \\\\ n_{10} & n_{11} \\\\ \\end{bmatrix} \\begin{bmatrix} m_{00} & m_{01} \\\\ m_{10} & m_{11} \\\\ \\end{bmatrix} $ = $ \\begin{bmatrix} n_{00}m_{00}+n_{01}m_{01} & n_{00}m_{10}+n_{01}m_{11} \\\\ n_{10}m_{00}+n_{11}m_{01} & n_{10}m_{10}+n_{11}m_{11} \\\\ \\end{bmatrix} $\n",
    "\n",
    "此时，n的倒数第一个axis=1，m的倒数第二个axis=1，故 `np.dot(n,m)` 等效于 `np.tensordot(n, m, axes=(1,1))`。"
   ]
  },
  {
   "cell_type": "code",
   "execution_count": null,
   "metadata": {},
   "outputs": [],
   "source": [
    "n_22 = np.arange(4).reshape(2,2)\n",
    "m_223 = np.arange(12).reshape(2,2,3)\n",
    "print('n:\\n', n_22)\n",
    "print('m:\\n', m_223)\n",
    "dot_23 = np.dot(n_22, m_223)\n",
    "print('dot_23.shape =', dot_23.shape)\n",
    "print('dot_23:\\n', dot_23)\n",
    "# 等效 tensordot 表达式\n",
    "tdot_23 = np.tensordot(n_22, m_223, axes=(1,1))\n",
    "print('tdot_23:\\n', tdot_23)"
   ]
  },
  {
   "attachments": {},
   "cell_type": "markdown",
   "metadata": {},
   "source": [
    "#### 3D · 2D\n",
    "\n",
    "shape=(2,2,3) 的D-D数组 m_223 如下（将其划分为2x2的方块 $m_{00}$,$m_{01}$,$m_{10}$,$m_{11}$）：\n",
    "\n",
    "m_223 = $ \\left[ \\begin{array}{ccc|ccc} 0 & 1 & 2 & 3 & 4 & 5 \\\\ \\hline 6 & 7 & 8 & 9 & 10 & 11 \\end{array} \\right] $ = $ \\begin{bmatrix} m_{00} & m_{01} \\\\ m_{10} & m_{11} \\\\ \\end{bmatrix} $，每一块 $m_i$ 代表第三维长度为3的向量。\n",
    "\n",
    "shape=(2,2) 的2-D数组 n_32 = $ \\begin{bmatrix} 0 & 1 \\\\ 2 & 3 \\\\ 4 & 5 \\\\ \\end{bmatrix} $ = $ \\begin{bmatrix} n_{00} & n_{01} \\\\ n_{10} & n_{11} \\\\ n_{20} & n_{21} \\\\ \\end{bmatrix} $  \n",
    "\n",
    "则 $m{\\cdot}n$ = $ \\left[ \\begin{array}{cc|cc} m_{00}{\\cdot}col1 & m_{00}{\\cdot}col2 & m_{01}{\\cdot}col1 & m_{01}{\\cdot}col2 \\\\ \\hline m_{10}{\\cdot}col1 & m_{10}{\\cdot}col2 & m_{11}{\\cdot}col1 & m_{11}{\\cdot}col2 \\\\ \\end{array} \\right] $\n",
    "\n",
    "此时，m的倒数第一个axis=2，n的倒数第二个axis=0，故 `np.dot(m,n)` 等效于 `np.tensordot(m, n, axes=(2,0))`。"
   ]
  },
  {
   "cell_type": "code",
   "execution_count": null,
   "metadata": {},
   "outputs": [],
   "source": [
    "m_223 = np.arange(12).reshape(2,2,3)\n",
    "n_32 = np.arange(3*2).reshape(3,2)\n",
    "print('n:\\n', n_32)\n",
    "print('m:\\n', m_223)\n",
    "dot_32 = np.dot(m_223, n_32)\n",
    "print('dot_32.shape =', dot_32.shape)\n",
    "print('dot_32:\\n', dot_32)\n",
    "# 等效 tensordot 表达式\n",
    "tdot_32 = np.tensordot(m_223, n_32, axes=(2,0))\n",
    "print('tdot_32:\\n', tdot_32)"
   ]
  },
  {
   "attachments": {},
   "cell_type": "markdown",
   "metadata": {},
   "source": [
    "## vdot\n",
    "\n",
    "`vdot(a, b)`: Return the dot product of two vectors.\n",
    "\n",
    "The vdot(`a`, `b`) function handles complex numbers differently than dot(`a`, `b`).\n",
    "\n",
    "- If the first argument is complex the complex conjugate of the first argument is used for the calculation of the dot product.\n",
    "\n",
    "Note that `vdot` handles multidimensional arrays differently than `dot`: \n",
    "\n",
    "- it does *not* perform a matrix product, but flattens input arguments to 1-D vectors first. Consequently, it should only be used for vectors."
   ]
  },
  {
   "cell_type": "code",
   "execution_count": null,
   "metadata": {},
   "outputs": [],
   "source": [
    "# complex\n",
    "\n",
    "# 对于复数运算，vdot 将第一个向量中的复数替换成共轭再计算。\n",
    "\n",
    "np.dot([2j, 3j], [2j, 3j]) # (-13+0j)\n",
    "# 等效于 np.dot([-2j, -3j], [2j, 3j])\n",
    "np.vdot([2j, 3j], [2j, 3j]) # (13+0j)\n",
    "\n",
    "a = np.array([1+2j,3+4j])\n",
    "b = np.array([5+6j,7+8j])\n",
    "c = np.dot(a, b)\n",
    "print('c:\\n', c)\n",
    "d = np.vdot(a, b)\n",
    "print('d:\\n', d)\n",
    "\n",
    "# 等效于a的共轭与b的点积\n",
    "ac = np.array([1-2j,3-4j])\n",
    "e = np.dot(ac, b)\n",
    "print('d:\\n', e)"
   ]
  },
  {
   "cell_type": "code",
   "execution_count": null,
   "metadata": {},
   "outputs": [],
   "source": [
    "# ndarray\n",
    "\n",
    "# Note that higher-dimensional arrays are flattened!\n",
    "\n",
    "a = np.array([[1, 4], [5, 6]])\n",
    "b = np.array([[4, 1], [2, 2]])\n",
    "c = np.vdot(a, b)\n",
    "print('c =', c)\n",
    "# 等效于 np.dot(a.flatten(), b.flatten())\n",
    "# 1*4 + 4*1 + 5*2 + 6*2\n",
    "d = np.dot(a.flatten(), b.flatten())\n",
    "print('d =', d)"
   ]
  },
  {
   "attachments": {},
   "cell_type": "markdown",
   "metadata": {},
   "source": [
    "## multi_dot\n",
    "\n",
    "multi_dot **chains** numpy.dot\n",
    "\n",
    "multi_dot([A, B, C, D]) 等效于：\n",
    "\n",
    "- np.dot(np.dot(np.dot(A, B), C), D)\n",
    "- A.dot(B).dot(C).dot(D)"
   ]
  },
  {
   "cell_type": "code",
   "execution_count": null,
   "metadata": {},
   "outputs": [],
   "source": [
    "a = np.arange(60).reshape(3,4,5)\n",
    "b = np.arange(24).reshape(4,3,2)\n",
    "c = np.tensordot(a,b, axes=((1,0),(0,1))) # axes=([1,0],[0,1])\n",
    "\n",
    "# A slower but equivalent way of computing the same...\n",
    "d = np.zeros((5,2), dtype=np.int32)\n",
    "for i in range(5):\n",
    "  for j in range(2):\n",
    "    print('i, j =', i, j)\n",
    "    for k in range(3):\n",
    "      for n in range(4):\n",
    "        d[i,j] += a[k,n,i] * b[n,k,j]\n",
    "        print('a[{2},{3},{0}]={4}, b[{3},{2},{1}]={5}, d[{0},{1}]={6}'.format(i,j,k,n,a[k,n,i], b[n,k,j], d[i,j]))"
   ]
  }
 ],
 "metadata": {
  "kernelspec": {
   "display_name": "base",
   "language": "python",
   "name": "python3"
  },
  "language_info": {
   "codemirror_mode": {
    "name": "ipython",
    "version": 3
   },
   "file_extension": ".py",
   "mimetype": "text/x-python",
   "name": "python",
   "nbconvert_exporter": "python",
   "pygments_lexer": "ipython3",
   "version": "3.9.13"
  },
  "orig_nbformat": 4,
  "vscode": {
   "interpreter": {
    "hash": "3067ead486e059ec00ffe7555bdb889e6e264a24dc711bf108106cc7baee8d5d"
   }
  }
 },
 "nbformat": 4,
 "nbformat_minor": 2
}
